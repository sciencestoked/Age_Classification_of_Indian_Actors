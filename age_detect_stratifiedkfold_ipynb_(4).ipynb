{
  "metadata": {
    "kernelspec": {
      "language": "python",
      "display_name": "Python 3",
      "name": "python3"
    },
    "language_info": {
      "name": "python",
      "version": "3.7.12",
      "mimetype": "text/x-python",
      "codemirror_mode": {
        "name": "ipython",
        "version": 3
      },
      "pygments_lexer": "ipython3",
      "nbconvert_exporter": "python",
      "file_extension": ".py"
    },
    "colab": {
      "name": "age-detect-stratifiedkfold-ipynb (4).ipynb",
      "provenance": [],
      "include_colab_link": true
    }
  },
  "nbformat_minor": 0,
  "nbformat": 4,
  "cells": [
    {
      "cell_type": "markdown",
      "metadata": {
        "id": "view-in-github",
        "colab_type": "text"
      },
      "source": [
        "<a href=\"https://colab.research.google.com/github/Arunim10/Age-Detection-of-Indian-Actors/blob/main/age_detect_stratifiedkfold_ipynb_(4).ipynb\" target=\"_parent\"><img src=\"https://colab.research.google.com/assets/colab-badge.svg\" alt=\"Open In Colab\"/></a>"
      ]
    },
    {
      "cell_type": "code",
      "source": [
        "import os\n",
        "import torch\n",
        "import torchvision\n",
        "import tarfile\n",
        "import torch.nn as nn\n",
        "import numpy as np\n",
        "import torch.nn.functional as F\n",
        "from torchvision.datasets.utils import download_url\n",
        "from torchvision.datasets import ImageFolder\n",
        "from torchvision.transforms import ToTensor\n",
        "from torch.utils.data import DataLoader\n",
        "import torchvision.transforms as tt\n",
        "from torch.utils.data import random_split,Dataset\n",
        "from torchvision.utils import make_grid\n",
        "import matplotlib\n",
        "import matplotlib.pyplot as plt\n",
        "import torchvision.models as models\n",
        "from PIL import Image\n",
        "# from skmultilearn.model_selection import IterativeStratification\n",
        "from sklearn.model_selection import StratifiedKFold\n",
        "import joblib\n",
        "import time\n",
        "%matplotlib inline\n",
        "\n",
        "matplotlib.rcParams['figure.facecolor'] = '#ffffff'"
      ],
      "metadata": {
        "id": "Qo2kaC1E3VMg",
        "execution": {
          "iopub.status.busy": "2022-06-30T13:33:25.153244Z",
          "iopub.execute_input": "2022-06-30T13:33:25.153775Z",
          "iopub.status.idle": "2022-06-30T13:33:26.377208Z",
          "shell.execute_reply.started": "2022-06-30T13:33:25.153661Z",
          "shell.execute_reply": "2022-06-30T13:33:26.376246Z"
        },
        "trusted": true
      },
      "execution_count": null,
      "outputs": []
    },
    {
      "cell_type": "code",
      "source": [
        "# from google.colab import drive\n",
        "# drive.mount('/content/drive')"
      ],
      "metadata": {
        "id": "Q6T-cJB7HyGD",
        "execution": {
          "iopub.status.busy": "2022-06-28T20:39:02.26668Z",
          "iopub.execute_input": "2022-06-28T20:39:02.267406Z",
          "iopub.status.idle": "2022-06-28T20:39:02.272817Z",
          "shell.execute_reply.started": "2022-06-28T20:39:02.26737Z",
          "shell.execute_reply": "2022-06-28T20:39:02.270874Z"
        },
        "trusted": true
      },
      "execution_count": null,
      "outputs": []
    },
    {
      "cell_type": "code",
      "source": [
        "# from zipfile import ZipFile\n",
        "# file_name = '/content/drive/MyDrive/age_detection/train_DETg9GD.zip'\n",
        "\n",
        "# with ZipFile(file_name, 'r') as zip:\n",
        "#   zip.extractall()\n",
        "#   print('Done')"
      ],
      "metadata": {
        "id": "0FbcdaeVIKc8",
        "execution": {
          "iopub.status.busy": "2022-06-28T20:39:02.274442Z",
          "iopub.execute_input": "2022-06-28T20:39:02.275257Z",
          "iopub.status.idle": "2022-06-28T20:39:02.28138Z",
          "shell.execute_reply.started": "2022-06-28T20:39:02.275221Z",
          "shell.execute_reply": "2022-06-28T20:39:02.280513Z"
        },
        "trusted": true
      },
      "execution_count": null,
      "outputs": []
    },
    {
      "cell_type": "code",
      "source": [
        "# from zipfile import ZipFile\n",
        "# file_name = '/content/drive/MyDrive/age_detection/test_Bh8pGW3.zip'\n",
        "\n",
        "# with ZipFile(file_name, 'r') as zip:\n",
        "#   zip.extractall()\n",
        "#   print('Done')"
      ],
      "metadata": {
        "id": "HjkT0iPbcgJU",
        "execution": {
          "iopub.status.busy": "2022-06-26T20:28:18.558799Z",
          "iopub.execute_input": "2022-06-26T20:28:18.55935Z",
          "iopub.status.idle": "2022-06-26T20:28:18.563332Z",
          "shell.execute_reply.started": "2022-06-26T20:28:18.559321Z",
          "shell.execute_reply": "2022-06-26T20:28:18.562276Z"
        },
        "trusted": true
      },
      "execution_count": null,
      "outputs": []
    },
    {
      "cell_type": "code",
      "source": [
        "# import os\n",
        "# train_images_path = \"/content/Train\"\n",
        "# train_csv = \"/content/train.csv\""
      ],
      "metadata": {
        "id": "xC_DI_VashzM",
        "execution": {
          "iopub.status.busy": "2022-06-26T20:28:18.651888Z",
          "iopub.execute_input": "2022-06-26T20:28:18.652936Z",
          "iopub.status.idle": "2022-06-26T20:28:18.657158Z",
          "shell.execute_reply.started": "2022-06-26T20:28:18.652895Z",
          "shell.execute_reply": "2022-06-26T20:28:18.65613Z"
        },
        "trusted": true
      },
      "execution_count": null,
      "outputs": []
    },
    {
      "cell_type": "code",
      "source": [
        "import os\n",
        "train_images_path = \"../input/agedetectstratifiedkfold/train_DETg9GD/Train\"\n",
        "train_csv = \"../input/agedetectstratifiedkfold/train_DETg9GD/train.csv\"\n",
        "test_images_path = \"../input/agedetectstratifiedkfold/test_Bh8pGW3/Test\"\n",
        "test_csv = \"../input/agedetectstratifiedkfold/test_Bh8pGW3/test.csv\""
      ],
      "metadata": {
        "id": "JzAdw6rpeGXN",
        "execution": {
          "iopub.status.busy": "2022-06-30T13:33:28.821725Z",
          "iopub.execute_input": "2022-06-30T13:33:28.822414Z",
          "iopub.status.idle": "2022-06-30T13:33:28.827388Z",
          "shell.execute_reply.started": "2022-06-30T13:33:28.822376Z",
          "shell.execute_reply": "2022-06-30T13:33:28.826420Z"
        },
        "trusted": true
      },
      "execution_count": null,
      "outputs": []
    },
    {
      "cell_type": "code",
      "source": [
        "len(os.listdir(train_images_path))"
      ],
      "metadata": {
        "id": "ecz1L_V4s9di",
        "execution": {
          "iopub.status.busy": "2022-06-30T13:33:29.138884Z",
          "iopub.execute_input": "2022-06-30T13:33:29.139547Z",
          "iopub.status.idle": "2022-06-30T13:33:29.557015Z",
          "shell.execute_reply.started": "2022-06-30T13:33:29.139502Z",
          "shell.execute_reply": "2022-06-30T13:33:29.556042Z"
        },
        "trusted": true
      },
      "execution_count": null,
      "outputs": []
    },
    {
      "cell_type": "code",
      "source": [
        "import pandas as pd\n",
        "train_df = pd.read_csv(train_csv)\n",
        "train_df.head()"
      ],
      "metadata": {
        "id": "mleWf71AtEZf",
        "execution": {
          "iopub.status.busy": "2022-06-30T13:33:29.558970Z",
          "iopub.execute_input": "2022-06-30T13:33:29.559643Z",
          "iopub.status.idle": "2022-06-30T13:33:29.603500Z",
          "shell.execute_reply.started": "2022-06-30T13:33:29.559606Z",
          "shell.execute_reply": "2022-06-30T13:33:29.602539Z"
        },
        "trusted": true
      },
      "execution_count": null,
      "outputs": []
    },
    {
      "cell_type": "code",
      "source": [
        "test_df = pd.read_csv(test_csv)\n",
        "test_df.head()"
      ],
      "metadata": {
        "execution": {
          "iopub.status.busy": "2022-06-30T13:33:29.758056Z",
          "iopub.execute_input": "2022-06-30T13:33:29.758326Z",
          "iopub.status.idle": "2022-06-30T13:33:29.780846Z",
          "shell.execute_reply.started": "2022-06-30T13:33:29.758301Z",
          "shell.execute_reply": "2022-06-30T13:33:29.779910Z"
        },
        "trusted": true,
        "id": "o_SkgV6v7WZ-"
      },
      "execution_count": null,
      "outputs": []
    },
    {
      "cell_type": "markdown",
      "source": [
        "# Using GPU"
      ],
      "metadata": {
        "id": "V3Ch7kGk7V6h"
      }
    },
    {
      "cell_type": "code",
      "source": [
        "def get_default_device():\n",
        "  if torch.cuda.is_available():\n",
        "    return torch.device('cuda')\n",
        "  else:\n",
        "    return torch.device('cpu')\n",
        "\n",
        "def to_device(data,device):\n",
        "  if isinstance(data,(list,tuple)):\n",
        "    return [to_device(x,device) for x in data]\n",
        "  return data.to(device,non_blocking=True)\n",
        "\n",
        "class DeviceDataLoader():\n",
        "  def __init__(self,dl,device):\n",
        "    self.dl = dl\n",
        "    self.device = device\n",
        "  \n",
        "  def __iter__(self):\n",
        "    for b in self.dl:\n",
        "      yield to_device(b,self.device)\n",
        "  \n",
        "  def __len__(self):\n",
        "    return len(self.dl)"
      ],
      "metadata": {
        "id": "HJA81ZTx65sC",
        "execution": {
          "iopub.status.busy": "2022-06-30T13:33:36.610085Z",
          "iopub.execute_input": "2022-06-30T13:33:36.610431Z",
          "iopub.status.idle": "2022-06-30T13:33:36.618044Z",
          "shell.execute_reply.started": "2022-06-30T13:33:36.610402Z",
          "shell.execute_reply": "2022-06-30T13:33:36.617132Z"
        },
        "trusted": true
      },
      "execution_count": null,
      "outputs": []
    },
    {
      "cell_type": "code",
      "source": [
        "device = get_default_device()\n",
        "device"
      ],
      "metadata": {
        "id": "ha9ZP85Z7YfS",
        "execution": {
          "iopub.status.busy": "2022-06-30T13:33:37.112980Z",
          "iopub.execute_input": "2022-06-30T13:33:37.113966Z",
          "iopub.status.idle": "2022-06-30T13:33:37.185755Z",
          "shell.execute_reply.started": "2022-06-30T13:33:37.113915Z",
          "shell.execute_reply": "2022-06-30T13:33:37.184410Z"
        },
        "trusted": true
      },
      "execution_count": null,
      "outputs": []
    },
    {
      "cell_type": "code",
      "source": [
        "# train_dl = DeviceDataLoader(train_dl,device)\n",
        "# val_dl = DeviceDataLoader(val_dl,device)"
      ],
      "metadata": {
        "id": "PvIn9rKv7Z-O",
        "execution": {
          "iopub.status.busy": "2022-06-28T20:15:09.623557Z",
          "iopub.execute_input": "2022-06-28T20:15:09.624138Z",
          "iopub.status.idle": "2022-06-28T20:15:09.62992Z",
          "shell.execute_reply.started": "2022-06-28T20:15:09.62409Z",
          "shell.execute_reply": "2022-06-28T20:15:09.628723Z"
        },
        "trusted": true
      },
      "execution_count": null,
      "outputs": []
    },
    {
      "cell_type": "markdown",
      "source": [
        "# Models"
      ],
      "metadata": {
        "id": "2wtVPKwu8k9c"
      }
    },
    {
      "cell_type": "code",
      "source": [
        "train_df.head()"
      ],
      "metadata": {
        "id": "Pa3bkneg5MQi",
        "execution": {
          "iopub.status.busy": "2022-06-30T13:33:39.743044Z",
          "iopub.execute_input": "2022-06-30T13:33:39.743467Z",
          "iopub.status.idle": "2022-06-30T13:33:39.761647Z",
          "shell.execute_reply.started": "2022-06-30T13:33:39.743429Z",
          "shell.execute_reply": "2022-06-30T13:33:39.760581Z"
        },
        "trusted": true
      },
      "execution_count": null,
      "outputs": []
    },
    {
      "cell_type": "code",
      "source": [
        "train_df['Class'] = train_df['Class'].map({'MIDDLE':0,'YOUNG':2,'OLD':1})\n",
        "train_df.head()"
      ],
      "metadata": {
        "id": "SU-TyQBz8yDA",
        "execution": {
          "iopub.status.busy": "2022-06-30T13:33:40.153515Z",
          "iopub.execute_input": "2022-06-30T13:33:40.154072Z",
          "iopub.status.idle": "2022-06-30T13:33:40.184566Z",
          "shell.execute_reply.started": "2022-06-30T13:33:40.154027Z",
          "shell.execute_reply": "2022-06-30T13:33:40.183663Z"
        },
        "trusted": true
      },
      "execution_count": null,
      "outputs": []
    },
    {
      "cell_type": "code",
      "source": [
        "X,y = train_df['ID'].values,train_df['Class']\n",
        "X,y"
      ],
      "metadata": {
        "id": "TxMOxNV15O4f",
        "execution": {
          "iopub.status.busy": "2022-06-30T13:33:40.442173Z",
          "iopub.execute_input": "2022-06-30T13:33:40.442577Z",
          "iopub.status.idle": "2022-06-30T13:33:40.453106Z",
          "shell.execute_reply.started": "2022-06-30T13:33:40.442539Z",
          "shell.execute_reply": "2022-06-30T13:33:40.452037Z"
        },
        "trusted": true
      },
      "execution_count": null,
      "outputs": []
    },
    {
      "cell_type": "code",
      "source": [
        "# stats = ((0.3033631  ,0.33424648, 0.43405876),(0.42803708 ,0.42595481 ,0.45326769))\n",
        "stats = ((0.485, 0.456, 0.406),(0.229, 0.224, 0.225))\n",
        "train_tfms = tt.Compose([tt.Resize((224,224))\n",
        "#                         ,tt.RandomCrop(512,padding=4,padding_mode='reflect')\n",
        "                        # ,tt.CenterCrop(128)\n",
        "#                          ,tt.ColorJitter(brightness=0.35, contrast=0.15, saturation=0.28, hue=0.22)\n",
        "#                         ,tt.RandomRotation(90)\n",
        "#                          ,tt.RandomPerspective()\n",
        "#                         ,tt.RandomHorizontalFlip()\n",
        "                        ,tt.RandomVerticalFlip(),\n",
        "                         tt.RandomEqualize(p=0.4),\n",
        "                        tt.RandomAutocontrast(0.3),\n",
        "                        tt.RandomHorizontalFlip(p=0.3),\n",
        "                        tt.AutoAugment(),\n",
        "                        tt.ToTensor(),\n",
        "                        tt.Normalize(*stats,inplace=True)])\n",
        "valid_tfms = tt.Compose([tt.Resize((224,224)),\n",
        "                         tt.ToTensor(),\n",
        "                         tt.Normalize(*stats)])\n",
        "# test_tfms = tt.Compose([tt.Resize((256,256)),\n",
        "#                          tt.ToTensor(),\n",
        "#                          tt.Normalize(*stats)])"
      ],
      "metadata": {
        "id": "YEfB1O9SVsHD",
        "execution": {
          "iopub.status.busy": "2022-06-30T13:33:40.856526Z",
          "iopub.execute_input": "2022-06-30T13:33:40.857358Z",
          "iopub.status.idle": "2022-06-30T13:33:40.873270Z",
          "shell.execute_reply.started": "2022-06-30T13:33:40.857312Z",
          "shell.execute_reply": "2022-06-30T13:33:40.872120Z"
        },
        "trusted": true
      },
      "execution_count": null,
      "outputs": []
    },
    {
      "cell_type": "code",
      "source": [
        "from torchvision.utils import make_grid\n",
        "def denormalize(image,means,stds):\n",
        "  means = torch.tensor(means).reshape(1,3,1,1)\n",
        "  print(\"means :\",means)\n",
        "  stds = torch.tensor(stds).reshape(1,3,1,1)\n",
        "  print(\"stds :\",stds)\n",
        "  print(\"image.shape :\",image.shape)\n",
        "  return image*stds+means\n",
        "def show_batch(dl,subset=\"train\"):\n",
        "    if (subset==\"train\"):\n",
        "        for images, labels in dl:\n",
        "            fig, ax = plt.subplots(figsize=(12, 6))\n",
        "            ax.set_xticks([]); ax.set_yticks([])\n",
        "            denorm_images = denormalize(images,*stats)\n",
        "            ax.imshow(make_grid(images, nrow=16).permute(1, 2, 0))\n",
        "            break\n",
        "    else:\n",
        "        for images in dl:\n",
        "            fig, ax = plt.subplots(figsize=(12, 6))\n",
        "            ax.set_xticks([]); ax.set_yticks([])\n",
        "            denorm_images = denormalize(images,*stats)\n",
        "            ax.imshow(make_grid(images, nrow=16).permute(1, 2, 0))\n",
        "            break"
      ],
      "metadata": {
        "id": "6DRkG6696GFq",
        "execution": {
          "iopub.status.busy": "2022-06-30T13:33:41.436199Z",
          "iopub.execute_input": "2022-06-30T13:33:41.436629Z",
          "iopub.status.idle": "2022-06-30T13:33:41.450108Z",
          "shell.execute_reply.started": "2022-06-30T13:33:41.436590Z",
          "shell.execute_reply": "2022-06-30T13:33:41.448994Z"
        },
        "trusted": true
      },
      "execution_count": null,
      "outputs": []
    },
    {
      "cell_type": "code",
      "source": [
        "# train_ds = AgeDetectDataset(train_df, transform=train_tfms)\n",
        "# train_dl = DataLoader(train_ds, 32, shuffle=True, num_workers=2, pin_memory=True)"
      ],
      "metadata": {
        "execution": {
          "iopub.status.busy": "2022-06-30T13:33:42.088454Z",
          "iopub.execute_input": "2022-06-30T13:33:42.088880Z",
          "iopub.status.idle": "2022-06-30T13:33:42.094108Z",
          "shell.execute_reply.started": "2022-06-30T13:33:42.088842Z",
          "shell.execute_reply": "2022-06-30T13:33:42.092949Z"
        },
        "trusted": true,
        "id": "wL6VSQpB7WaB"
      },
      "execution_count": null,
      "outputs": []
    },
    {
      "cell_type": "code",
      "source": [
        "# show_batch(train_dl)"
      ],
      "metadata": {
        "execution": {
          "iopub.status.busy": "2022-06-30T13:33:42.731007Z",
          "iopub.execute_input": "2022-06-30T13:33:42.731433Z",
          "iopub.status.idle": "2022-06-30T13:33:42.737217Z",
          "shell.execute_reply.started": "2022-06-30T13:33:42.731394Z",
          "shell.execute_reply": "2022-06-30T13:33:42.736267Z"
        },
        "trusted": true,
        "id": "4W3tlsrt7WaC"
      },
      "execution_count": null,
      "outputs": []
    },
    {
      "cell_type": "code",
      "source": [
        "from pathlib import Path"
      ],
      "metadata": {
        "id": "WruBTBrnMQ-o",
        "execution": {
          "iopub.status.busy": "2022-06-30T13:33:43.097047Z",
          "iopub.execute_input": "2022-06-30T13:33:43.097538Z",
          "iopub.status.idle": "2022-06-30T13:33:43.102768Z",
          "shell.execute_reply.started": "2022-06-30T13:33:43.097495Z",
          "shell.execute_reply": "2022-06-30T13:33:43.101860Z"
        },
        "trusted": true
      },
      "execution_count": null,
      "outputs": []
    },
    {
      "cell_type": "code",
      "source": [
        "train_images = {int(x.stem): x for x in Path(train_images_path).iterdir() if x.suffix == '.jpg'}"
      ],
      "metadata": {
        "id": "0NAJfyoUMBKR",
        "execution": {
          "iopub.status.busy": "2022-06-30T13:33:43.541809Z",
          "iopub.execute_input": "2022-06-30T13:33:43.542308Z",
          "iopub.status.idle": "2022-06-30T13:33:43.840451Z",
          "shell.execute_reply.started": "2022-06-30T13:33:43.542260Z",
          "shell.execute_reply": "2022-06-30T13:33:43.839423Z"
        },
        "trusted": true
      },
      "execution_count": null,
      "outputs": []
    },
    {
      "cell_type": "code",
      "source": [
        "test_images = {int(x.stem): x for x in Path(test_images_path).iterdir() if x.suffix == '.jpg'}"
      ],
      "metadata": {
        "id": "OQ8xOO4HMkq3",
        "execution": {
          "iopub.status.busy": "2022-06-30T13:33:43.845408Z",
          "iopub.execute_input": "2022-06-30T13:33:43.847682Z",
          "iopub.status.idle": "2022-06-30T13:33:44.341488Z",
          "shell.execute_reply.started": "2022-06-30T13:33:43.847642Z",
          "shell.execute_reply": "2022-06-30T13:33:44.340406Z"
        },
        "trusted": true
      },
      "execution_count": null,
      "outputs": []
    },
    {
      "cell_type": "code",
      "source": [
        "test_images[25540]"
      ],
      "metadata": {
        "execution": {
          "iopub.status.busy": "2022-06-30T13:33:44.346800Z",
          "iopub.execute_input": "2022-06-30T13:33:44.349183Z",
          "iopub.status.idle": "2022-06-30T13:33:44.360566Z",
          "shell.execute_reply.started": "2022-06-30T13:33:44.349143Z",
          "shell.execute_reply": "2022-06-30T13:33:44.359480Z"
        },
        "trusted": true,
        "id": "1FqIZk2Q7WaC"
      },
      "execution_count": null,
      "outputs": []
    },
    {
      "cell_type": "code",
      "source": [
        "class AgeDetectDataset(Dataset):\n",
        "    def __init__(self, df, transform=None, is_test=False):\n",
        "        self.df = df\n",
        "        self.transform = transform\n",
        "        self.files = test_images if is_test else train_images\n",
        "        \n",
        "    def __len__(self):\n",
        "        return len(self.df)    \n",
        "    \n",
        "    def __getitem__(self, idx):\n",
        "        row = self.df.loc[idx]\n",
        "        img_id, img_label = row['ID'], row['Class']\n",
        "        labels = torch.zeros(3)\n",
        "        labels[img_label] = 1\n",
        "        img = os.path.join(train_images_path,img_id)\n",
        "#         img = self.files[img_id] \n",
        "#         img = Image.open(img)\n",
        "        img = Image.open(img,mode='r').convert('RGB')\n",
        "        if self.transform:\n",
        "            img = self.transform(img)\n",
        "        return img, labels"
      ],
      "metadata": {
        "id": "3loXLF-GTIAt",
        "execution": {
          "iopub.status.busy": "2022-06-30T13:33:44.433171Z",
          "iopub.execute_input": "2022-06-30T13:33:44.436092Z",
          "iopub.status.idle": "2022-06-30T13:33:44.447948Z",
          "shell.execute_reply.started": "2022-06-30T13:33:44.436048Z",
          "shell.execute_reply": "2022-06-30T13:33:44.446948Z"
        },
        "trusted": true
      },
      "execution_count": null,
      "outputs": []
    },
    {
      "cell_type": "code",
      "source": [
        "torch.zeros(3)"
      ],
      "metadata": {
        "execution": {
          "iopub.status.busy": "2022-06-30T13:33:44.825858Z",
          "iopub.execute_input": "2022-06-30T13:33:44.828787Z",
          "iopub.status.idle": "2022-06-30T13:33:44.840963Z",
          "shell.execute_reply.started": "2022-06-30T13:33:44.828745Z",
          "shell.execute_reply": "2022-06-30T13:33:44.839802Z"
        },
        "trusted": true,
        "id": "iHbFc9i-7WaD"
      },
      "execution_count": null,
      "outputs": []
    },
    {
      "cell_type": "code",
      "source": [
        "test_df.head()"
      ],
      "metadata": {
        "execution": {
          "iopub.status.busy": "2022-06-30T13:33:45.338286Z",
          "iopub.execute_input": "2022-06-30T13:33:45.338748Z",
          "iopub.status.idle": "2022-06-30T13:33:45.364278Z",
          "shell.execute_reply.started": "2022-06-30T13:33:45.338702Z",
          "shell.execute_reply": "2022-06-30T13:33:45.363237Z"
        },
        "trusted": true,
        "id": "uuXHRigB7WaD"
      },
      "execution_count": null,
      "outputs": []
    },
    {
      "cell_type": "code",
      "source": [
        "class AgeDetectDatasetTest(Dataset):\n",
        "    def __init__(self, df, transform=None, is_test=False):\n",
        "        self.df = df\n",
        "        self.transform = transform\n",
        "        self.files = test_images if is_test else train_images\n",
        "        \n",
        "    def __len__(self):\n",
        "        return len(self.df)    \n",
        "    \n",
        "    def __getitem__(self, idx):\n",
        "        row = self.df.loc[idx]\n",
        "        img_id = row['ID']\n",
        "        img = os.path.join(test_images_path,img_id)\n",
        "#         img = self.files[img_id] \n",
        "#         img = Image.open(img)\n",
        "        img = Image.open(img,mode='r').convert('RGB')\n",
        "        if self.transform:\n",
        "            img = self.transform(img)\n",
        "        return img"
      ],
      "metadata": {
        "id": "_NnLiwx7ThXG",
        "execution": {
          "iopub.status.busy": "2022-06-30T13:33:45.724371Z",
          "iopub.execute_input": "2022-06-30T13:33:45.724880Z",
          "iopub.status.idle": "2022-06-30T13:33:45.735175Z",
          "shell.execute_reply.started": "2022-06-30T13:33:45.724832Z",
          "shell.execute_reply": "2022-06-30T13:33:45.733974Z"
        },
        "trusted": true
      },
      "execution_count": null,
      "outputs": []
    },
    {
      "cell_type": "code",
      "source": [
        "batch_size = 32"
      ],
      "metadata": {
        "id": "5g-5fA6uUB6H",
        "execution": {
          "iopub.status.busy": "2022-06-30T13:33:46.082829Z",
          "iopub.execute_input": "2022-06-30T13:33:46.083162Z",
          "iopub.status.idle": "2022-06-30T13:33:46.087735Z",
          "shell.execute_reply.started": "2022-06-30T13:33:46.083132Z",
          "shell.execute_reply": "2022-06-30T13:33:46.086474Z"
        },
        "trusted": true
      },
      "execution_count": null,
      "outputs": []
    },
    {
      "cell_type": "code",
      "source": [
        "def get_split_dataloaders(train_df,val_df):\n",
        "    \n",
        "    train_ds = AgeDetectDataset(train_df, transform=train_tfms)\n",
        "    val_ds = AgeDetectDataset(val_df, transform=valid_tfms)\n",
        "    \n",
        "    train_dl = DataLoader(train_ds, batch_size, shuffle=True, num_workers=2, pin_memory=True)\n",
        "    val_dl = DataLoader(val_ds, batch_size*2, num_workers=2, pin_memory=True)\n",
        "    \n",
        "    \n",
        "    train_dl = DeviceDataLoader(train_dl, device)\n",
        "    val_dl = DeviceDataLoader(val_dl, device)\n",
        "    \n",
        "    return train_dl, val_dl"
      ],
      "metadata": {
        "id": "gysYzRV7TLh-",
        "execution": {
          "iopub.status.busy": "2022-06-30T13:33:46.465719Z",
          "iopub.execute_input": "2022-06-30T13:33:46.466039Z",
          "iopub.status.idle": "2022-06-30T13:33:46.472428Z",
          "shell.execute_reply.started": "2022-06-30T13:33:46.466010Z",
          "shell.execute_reply": "2022-06-30T13:33:46.471471Z"
        },
        "trusted": true
      },
      "execution_count": null,
      "outputs": []
    },
    {
      "cell_type": "code",
      "source": [
        "def get_test_dl():\n",
        "    test_ds = AgeDetectDatasetTest(test_df, transform=valid_tfms, is_test=True)\n",
        "    test_dl = DataLoader(test_ds, batch_size*2, num_workers=2, pin_memory=True)\n",
        "    return DeviceDataLoader(test_dl, device)"
      ],
      "metadata": {
        "id": "i1PMB_5uTOT-",
        "execution": {
          "iopub.status.busy": "2022-06-30T13:33:46.867310Z",
          "iopub.execute_input": "2022-06-30T13:33:46.867895Z",
          "iopub.status.idle": "2022-06-30T13:33:46.873323Z",
          "shell.execute_reply.started": "2022-06-30T13:33:46.867862Z",
          "shell.execute_reply": "2022-06-30T13:33:46.871971Z"
        },
        "trusted": true
      },
      "execution_count": null,
      "outputs": []
    },
    {
      "cell_type": "code",
      "source": [
        "a = torch.zeros((1,3))\n",
        "print(a)\n",
        "a[0][2] = 1\n",
        "print(a)\n",
        "val,out = torch.max(a,dim=1)\n",
        "out"
      ],
      "metadata": {
        "execution": {
          "iopub.status.busy": "2022-06-30T13:33:47.385749Z",
          "iopub.execute_input": "2022-06-30T13:33:47.386108Z",
          "iopub.status.idle": "2022-06-30T13:33:47.398524Z",
          "shell.execute_reply.started": "2022-06-30T13:33:47.386075Z",
          "shell.execute_reply": "2022-06-30T13:33:47.397427Z"
        },
        "trusted": true,
        "id": "dGBHsKMw7WaD"
      },
      "execution_count": null,
      "outputs": []
    },
    {
      "cell_type": "code",
      "source": [
        "def F_score(output, label, threshold=0.5, beta=1):\n",
        "    val,out = torch.max(output,dim=1)\n",
        "#     print(val.shape)\n",
        "#     print(label.shape)\n",
        "    lab,label = torch.max(label,dim=1) \n",
        "    prob = val > threshold\n",
        "    label = label > threshold\n",
        "    # print(\"prob: \",prob)\n",
        "    # print(\"label: \",label)\n",
        "    TP = (prob & label).sum().float()\n",
        "    TN = ((~prob) & (~label)).sum().float()\n",
        "    FP = (prob & (~label)).sum().float()\n",
        "    FN = ((~prob) & label).sum().float()\n",
        "\n",
        "    precision = torch.mean(TP / (TP + FP+1e-12))\n",
        "    recall = torch.mean(TP / (TP + FN+1e-12))\n",
        "    F2 = (1 + beta**2) * precision * recall / (beta**2 * precision + recall+1e-12)\n",
        "    return F2.mean(0)"
      ],
      "metadata": {
        "id": "k91yw_2q8bIp",
        "execution": {
          "iopub.status.busy": "2022-06-30T13:33:47.623451Z",
          "iopub.execute_input": "2022-06-30T13:33:47.624145Z",
          "iopub.status.idle": "2022-06-30T13:33:47.631904Z",
          "shell.execute_reply.started": "2022-06-30T13:33:47.624115Z",
          "shell.execute_reply": "2022-06-30T13:33:47.630925Z"
        },
        "trusted": true
      },
      "execution_count": null,
      "outputs": []
    },
    {
      "cell_type": "code",
      "source": [
        "class LabelSmoothingLoss(nn.Module): \n",
        "    def __init__(self, classes, smoothing, dim=-1): \n",
        "        super(LabelSmoothingLoss, self).__init__() \n",
        "        self.confidence = 1.0 - smoothing \n",
        "        self.smoothing = smoothing \n",
        "        self.cls = classes \n",
        "        self.dim = dim \n",
        "    def forward(self, pred, target): \n",
        "        pred = pred.log_softmax(dim=self.dim)\n",
        "        _,target = torch.max(target,dim=1)\n",
        "        with torch.no_grad():\n",
        "            true_dist = torch.zeros_like(pred)\n",
        "#             print(\"1\")\n",
        "#             print(true_dist,true_dist.shape)\n",
        "            true_dist.fill_(self.smoothing / (self.cls - 1))\n",
        "#             print(\"2\")\n",
        "#             print(true_dist,true_dist.shape)\n",
        "#             print(target.data.shape)\n",
        "#             print(target.data.shape)\n",
        "            true_dist.scatter_(1, target.data.type(torch.int64).unsqueeze(1), self.confidence) \n",
        "#             print(\"3\")\n",
        "#             print(true_dist,true_dist.shape)\n",
        "#         print(torch.mean(torch.sum(-true_dist * pred, dim=self.dim)))\n",
        "        return torch.mean(torch.sum(-true_dist * pred, dim=self.dim))"
      ],
      "metadata": {
        "execution": {
          "iopub.status.busy": "2022-06-30T13:33:48.003399Z",
          "iopub.execute_input": "2022-06-30T13:33:48.004236Z",
          "iopub.status.idle": "2022-06-30T13:33:48.014159Z",
          "shell.execute_reply.started": "2022-06-30T13:33:48.004189Z",
          "shell.execute_reply": "2022-06-30T13:33:48.013221Z"
        },
        "trusted": true,
        "id": "R1TcLjQK7WaE"
      },
      "execution_count": null,
      "outputs": []
    },
    {
      "cell_type": "code",
      "source": [
        "criterion = LabelSmoothingLoss(classes=3, smoothing=0.05)"
      ],
      "metadata": {
        "execution": {
          "iopub.status.busy": "2022-06-30T13:33:48.378266Z",
          "iopub.execute_input": "2022-06-30T13:33:48.379088Z",
          "iopub.status.idle": "2022-06-30T13:33:48.384221Z",
          "shell.execute_reply.started": "2022-06-30T13:33:48.379046Z",
          "shell.execute_reply": "2022-06-30T13:33:48.383345Z"
        },
        "trusted": true,
        "id": "bpjSd-io7WaE"
      },
      "execution_count": null,
      "outputs": []
    },
    {
      "cell_type": "code",
      "source": [
        "def accuracy(outputs,labels):\n",
        "#   print(outputs)\n",
        "#   print(labels)\n",
        "  _,preds = torch.max(outputs,dim=1)\n",
        "  _,labels = torch.max(labels,dim=1)\n",
        "  return torch.tensor(torch.sum(preds==labels).item()/len(preds))\n",
        "\n",
        "class MultilabelImageClassificationBase(nn.Module):\n",
        "  def training_step(self,batch):\n",
        "    images,labels = batch\n",
        "    out = self(images)\n",
        "    loss = criterion(out,labels)\n",
        "    return loss\n",
        "  \n",
        "  def validation_step(self,batch):\n",
        "    images,labels = batch\n",
        "    # print(images.shape)\n",
        "    # print(images)\n",
        "    # print(labels.shape)\n",
        "    out = self(images)\n",
        "    # print(\"OUT \")\n",
        "    # # print(out)\n",
        "    # print(out.shape)\n",
        "    loss = criterion(out,labels)\n",
        "    score = F_score(out,labels)\n",
        "    acc = accuracy(out,labels)\n",
        "    return {'val_loss':loss.detach(),'val_acc':acc,'val_score':score.detach()}\n",
        "  \n",
        "  def validation_epoch_end(self,outputs):\n",
        "    batch_losses = [x['val_loss'] for x in outputs]\n",
        "    epoch_loss = torch.stack(batch_losses).mean()\n",
        "    batch_accs = [x['val_acc'] for x in outputs]\n",
        "    epoch_acc = torch.stack(batch_accs).mean()\n",
        "    batch_scores = [x['val_score'] for x in outputs]\n",
        "    epoch_score = torch.stack(batch_scores).mean()\n",
        "    return {'val_loss':epoch_loss.item(), 'val_acc':epoch_acc.item(), 'val_score':epoch_score.item()}\n",
        "\n",
        "  def epoch_end(self,epoch,result):\n",
        "    print(\"Epoch [{}], last_lr: {:.5f}, train_loss: {:.4f}, val_loss: {:.4f}, val_acc: {:.4f}, val_score: {:.4f}\".format(\n",
        "        epoch,result['lrs'][-1],result['train_loss'],result['val_loss'],result['val_acc'],result['val_score']))"
      ],
      "metadata": {
        "id": "zs-Iv0gg8m9g",
        "execution": {
          "iopub.status.busy": "2022-06-30T13:33:48.765242Z",
          "iopub.execute_input": "2022-06-30T13:33:48.765832Z",
          "iopub.status.idle": "2022-06-30T13:33:48.777904Z",
          "shell.execute_reply.started": "2022-06-30T13:33:48.765796Z",
          "shell.execute_reply": "2022-06-30T13:33:48.776817Z"
        },
        "trusted": true
      },
      "execution_count": null,
      "outputs": []
    },
    {
      "cell_type": "markdown",
      "source": [
        "# Resnet "
      ],
      "metadata": {
        "id": "VlH6GvxDS3ea"
      }
    },
    {
      "cell_type": "code",
      "source": [
        "# def conv_block(in_channels, out_channels, pool=False):\n",
        "#     layers = [nn.Conv2d(in_channels, out_channels, kernel_size=3, padding=1), \n",
        "#               nn.BatchNorm2d(out_channels), \n",
        "#               nn.ReLU(inplace=True)]\n",
        "#     if pool: layers.append(nn.MaxPool2d(2))\n",
        "#     return nn.Sequential(*layers)\n",
        "\n",
        "# class ResNet9(MultilabelImageClassificationBase):\n",
        "#     def __init__(self, in_channels, num_classes):\n",
        "#         super().__init__()\n",
        "        \n",
        "#         self.conv1 = conv_block(in_channels, 64)\n",
        "#         self.conv2 = conv_block(64, 128, pool=True)\n",
        "#         self.res1 = nn.Sequential(conv_block(128, 128), conv_block(128, 128))\n",
        "        \n",
        "#         self.conv3 = conv_block(128, 256, pool=True)\n",
        "#         self.conv4 = conv_block(256, 512, pool=True)\n",
        "#         self.res2 = nn.Sequential(conv_block(512, 512), conv_block(512, 512))\n",
        "        \n",
        "#         self.classifier = nn.Sequential(nn.MaxPool2d(4), \n",
        "#                                         nn.Flatten(), \n",
        "#                                         nn.Dropout(0.2),\n",
        "#                                         nn.Linear(512, num_classes))\n",
        "        \n",
        "#     def forward(self, xb):\n",
        "#         out = self.conv1(xb)\n",
        "#         # print(\"1\")\n",
        "#         # print(out.shape)\n",
        "#         out = self.conv2(out)\n",
        "#         # print(\"2\")\n",
        "#         # print(out.shape)\n",
        "#         # print(\"self.res1(out) \",self.res1(out).shape)\n",
        "#         out = self.res1(out) + out\n",
        "#         # print(\"3\")\n",
        "#         # print(out.shape)\n",
        "#         out = self.conv3(out)\n",
        "#         # print(\"4\")\n",
        "#         # print(out.shape)\n",
        "#         out = self.conv4(out)\n",
        "#         # print(\"5\")\n",
        "#         # print(out.shape)\n",
        "#         # print(\"self.res2(out) \",self.res2(out).shape)\n",
        "#         out = self.res2(out) + out\n",
        "#         # print(\"6\")\n",
        "#         # print(out.shape)\n",
        "#         out = self.classifier(out)\n",
        "#         # print(\"7\")\n",
        "#         # print(out.shape)\n",
        "#         return out"
      ],
      "metadata": {
        "id": "vWnOSgsX8pR0",
        "execution": {
          "iopub.status.busy": "2022-06-30T13:33:49.845441Z",
          "iopub.execute_input": "2022-06-30T13:33:49.845770Z",
          "iopub.status.idle": "2022-06-30T13:33:49.852017Z",
          "shell.execute_reply.started": "2022-06-30T13:33:49.845740Z",
          "shell.execute_reply": "2022-06-30T13:33:49.851030Z"
        },
        "trusted": true
      },
      "execution_count": null,
      "outputs": []
    },
    {
      "cell_type": "code",
      "source": [
        "# model = models.resnext50_32x4d()\n",
        "# model"
      ],
      "metadata": {
        "execution": {
          "iopub.status.busy": "2022-06-27T17:40:17.605687Z",
          "iopub.execute_input": "2022-06-27T17:40:17.606688Z",
          "iopub.status.idle": "2022-06-27T17:40:18.184369Z",
          "shell.execute_reply.started": "2022-06-27T17:40:17.606623Z",
          "shell.execute_reply": "2022-06-27T17:40:18.181805Z"
        },
        "trusted": true,
        "id": "mF8sc9xl7WaF"
      },
      "execution_count": null,
      "outputs": []
    },
    {
      "cell_type": "code",
      "source": [
        "class Resnext50(MultilabelImageClassificationBase):\n",
        "    def __init__(self):\n",
        "        super().__init__()\n",
        "        # Use a pretrained model\n",
        "        self.network = models.resnext50_32x4d(pretrained=True)\n",
        "        # Replace last layer\n",
        "        num_ftrs = self.network.fc.in_features\n",
        "        self.network.fc = nn.Linear(num_ftrs,3)\n",
        "    def forward(self, xb):\n",
        "        return torch.sigmoid(self.network(xb))\n",
        "    \n",
        "    def freeze(self):\n",
        "        # To freeze the residual layers\n",
        "        for param in self.network.parameters():\n",
        "            param.require_grad = False\n",
        "        \n",
        "        for param in self.network.fc.parameters():\n",
        "            param.require_grad = True\n",
        "    \n",
        "    def unfreeze(self):\n",
        "        # Unfreeze all layers\n",
        "        for param in self.network.parameters():\n",
        "            param.require_grad = True"
      ],
      "metadata": {
        "execution": {
          "iopub.status.busy": "2022-06-30T13:33:51.719094Z",
          "iopub.execute_input": "2022-06-30T13:33:51.719512Z",
          "iopub.status.idle": "2022-06-30T13:33:51.729962Z",
          "shell.execute_reply.started": "2022-06-30T13:33:51.719475Z",
          "shell.execute_reply": "2022-06-30T13:33:51.729045Z"
        },
        "trusted": true,
        "id": "uPept_dT7WaF"
      },
      "execution_count": null,
      "outputs": []
    },
    {
      "cell_type": "code",
      "source": [
        "# model = to_device(ResNet9(3, 3), device)\n",
        "# model"
      ],
      "metadata": {
        "id": "ewBd0aB98raV",
        "execution": {
          "iopub.status.busy": "2022-06-26T20:28:25.885361Z",
          "iopub.execute_input": "2022-06-26T20:28:25.886306Z",
          "iopub.status.idle": "2022-06-26T20:28:25.890727Z",
          "shell.execute_reply.started": "2022-06-26T20:28:25.886268Z",
          "shell.execute_reply": "2022-06-26T20:28:25.889521Z"
        },
        "trusted": true
      },
      "execution_count": null,
      "outputs": []
    },
    {
      "cell_type": "code",
      "source": [
        "# resnet50 = models.resnet50()\n",
        "# resnet50"
      ],
      "metadata": {
        "id": "A5flUNXPmpCn",
        "execution": {
          "iopub.status.busy": "2022-06-26T20:28:26.002142Z",
          "iopub.execute_input": "2022-06-26T20:28:26.003987Z",
          "iopub.status.idle": "2022-06-26T20:28:26.007555Z",
          "shell.execute_reply.started": "2022-06-26T20:28:26.003961Z",
          "shell.execute_reply": "2022-06-26T20:28:26.006656Z"
        },
        "trusted": true
      },
      "execution_count": null,
      "outputs": []
    },
    {
      "cell_type": "code",
      "source": [
        "# resnet152 = models.resnet152()\n",
        "# resnet152"
      ],
      "metadata": {
        "id": "Hg8qTX3lpi8B",
        "execution": {
          "iopub.status.busy": "2022-06-26T20:28:26.124199Z",
          "iopub.execute_input": "2022-06-26T20:28:26.126173Z",
          "iopub.status.idle": "2022-06-26T20:28:26.130723Z",
          "shell.execute_reply.started": "2022-06-26T20:28:26.12614Z",
          "shell.execute_reply": "2022-06-26T20:28:26.129911Z"
        },
        "trusted": true
      },
      "execution_count": null,
      "outputs": []
    },
    {
      "cell_type": "markdown",
      "source": [
        "# DENSENET121"
      ],
      "metadata": {
        "id": "kVtQi9n7eGXX"
      }
    },
    {
      "cell_type": "code",
      "source": [
        "# models_densenet161 = models.densenet161()\n",
        "# models_densenet161"
      ],
      "metadata": {
        "id": "f4DJbdGCeGXX",
        "execution": {
          "iopub.status.busy": "2022-06-26T20:28:26.209854Z",
          "iopub.execute_input": "2022-06-26T20:28:26.210103Z",
          "iopub.status.idle": "2022-06-26T20:28:26.213915Z",
          "shell.execute_reply.started": "2022-06-26T20:28:26.21008Z",
          "shell.execute_reply": "2022-06-26T20:28:26.212905Z"
        },
        "trusted": true
      },
      "execution_count": null,
      "outputs": []
    },
    {
      "cell_type": "code",
      "source": [
        "# models.densenet121()"
      ],
      "metadata": {
        "id": "rOcfrDSdeGXX",
        "execution": {
          "iopub.status.busy": "2022-06-26T20:28:26.311162Z",
          "iopub.execute_input": "2022-06-26T20:28:26.311895Z",
          "iopub.status.idle": "2022-06-26T20:28:26.316123Z",
          "shell.execute_reply.started": "2022-06-26T20:28:26.311859Z",
          "shell.execute_reply": "2022-06-26T20:28:26.315237Z"
        },
        "trusted": true
      },
      "execution_count": null,
      "outputs": []
    },
    {
      "cell_type": "code",
      "source": [
        "class DenseNET121(MultilabelImageClassificationBase):\n",
        "    def __init__(self):\n",
        "        super().__init__()\n",
        "        # Use a pretrained model\n",
        "        self.network = models.densenet121(pretrained=True)\n",
        "        # Replace last layer\n",
        "#         num_ftrs = self.network.fc.in_features\n",
        "#         self.network.fc = nn.Linear(num_ftrs, 3)\n",
        "        num_ftrs = self.network.classifier.in_features\n",
        "        self.network.classifier = torch.nn.Linear(self.network.classifier.in_features, out_features=3)\n",
        "#         self.network.classifier = nn.Sequential(\n",
        "# # #                         #                 nn.AdaptiveAvgPool2d((1280,1,1)),\n",
        "#                                         nn.Linear(num_ftrs, 512),    \n",
        "#                                         nn.Hardswish(),\n",
        "#                                         nn.BatchNorm1d(512),\n",
        "#                                         nn.Dropout(0.3),\n",
        "#                                         nn.Linear(512, 256),\n",
        "#                                         nn.Hardswish(),\n",
        "#                                         nn.BatchNorm1d(256),\n",
        "#                                         nn.Dropout(0.3),\n",
        "#                                         nn.Linear(256,3))\n",
        "#                                         # nn.BatchNorm1d(num_features=num_ftrs),    \n",
        "#                                         # nn.Linear(num_ftrs, 512),\n",
        "#                                         # nn.ReLU(),\n",
        "#                                         # nn.BatchNorm1d(512),\n",
        "#                                         # nn.Linear(512, 128),\n",
        "#                                         # nn.ReLU(),\n",
        "#                                         # nn.BatchNorm1d(num_features=128),\n",
        "#                                         # nn.Dropout(0.4),\n",
        "#                                         # nn.Linear(128, 3),\n",
        "#                                     )\n",
        "    \n",
        "    def forward(self, xb):\n",
        "        return torch.sigmoid(self.network(xb))\n",
        "    \n",
        "    def freeze(self):\n",
        "        # To freeze the residual layers\n",
        "        for param in self.network.parameters():\n",
        "            param.require_grad = False\n",
        "    \n",
        "    def unfreeze(self):\n",
        "        # Unfreeze all layers\n",
        "        for param in self.network.parameters():\n",
        "            param.require_grad = True"
      ],
      "metadata": {
        "id": "i-rVtIW9mt35",
        "execution": {
          "iopub.status.busy": "2022-06-30T13:33:54.059639Z",
          "iopub.execute_input": "2022-06-30T13:33:54.060105Z",
          "iopub.status.idle": "2022-06-30T13:33:54.068715Z",
          "shell.execute_reply.started": "2022-06-30T13:33:54.060066Z",
          "shell.execute_reply": "2022-06-30T13:33:54.067667Z"
        },
        "trusted": true
      },
      "execution_count": null,
      "outputs": []
    },
    {
      "cell_type": "markdown",
      "source": [
        "# Efficient Net_B2"
      ],
      "metadata": {
        "id": "AjNGwn1dgFzm"
      }
    },
    {
      "cell_type": "code",
      "source": [
        "# !pip install timm"
      ],
      "metadata": {
        "id": "9d8Cz-SkgFFa",
        "execution": {
          "iopub.status.busy": "2022-06-28T20:39:33.240435Z",
          "iopub.execute_input": "2022-06-28T20:39:33.240787Z",
          "iopub.status.idle": "2022-06-28T20:39:46.119454Z",
          "shell.execute_reply.started": "2022-06-28T20:39:33.240757Z",
          "shell.execute_reply": "2022-06-28T20:39:46.118323Z"
        },
        "trusted": true
      },
      "execution_count": null,
      "outputs": []
    },
    {
      "cell_type": "code",
      "source": [
        "# import timm"
      ],
      "metadata": {
        "id": "dvpxBDLOgMtN",
        "execution": {
          "iopub.status.busy": "2022-06-28T20:39:46.123199Z",
          "iopub.execute_input": "2022-06-28T20:39:46.123521Z",
          "iopub.status.idle": "2022-06-28T20:39:51.103488Z",
          "shell.execute_reply.started": "2022-06-28T20:39:46.12349Z",
          "shell.execute_reply": "2022-06-28T20:39:51.102357Z"
        },
        "trusted": true
      },
      "execution_count": null,
      "outputs": []
    },
    {
      "cell_type": "code",
      "source": [
        "# models.efficientnet_b2"
      ],
      "metadata": {
        "id": "fRSelTxAHANu",
        "execution": {
          "iopub.status.busy": "2022-06-28T20:39:51.105463Z",
          "iopub.execute_input": "2022-06-28T20:39:51.105821Z",
          "iopub.status.idle": "2022-06-28T20:39:51.113196Z",
          "shell.execute_reply.started": "2022-06-28T20:39:51.105786Z",
          "shell.execute_reply": "2022-06-28T20:39:51.112336Z"
        },
        "trusted": true
      },
      "execution_count": null,
      "outputs": []
    },
    {
      "cell_type": "code",
      "source": [
        "class EfficientNet_b2(MultilabelImageClassificationBase):\n",
        "    def __init__(self):\n",
        "        super().__init__()\n",
        "        # Use a pretrained model\n",
        "        self.network = timm.create_model(\"efficientnet_b2\",pretrained=True)\n",
        "        # Replace last layer\n",
        "        num_ftrs = self.network.classifier.in_features\n",
        "        self.network.classifier = nn.Linear(num_ftrs,3)\n",
        "#         self.network.classifier = nn.Sequential(\n",
        "# #                         #                 nn.AdaptiveAvgPool2d((1280,1,1)),\n",
        "#                                         nn.Linear(num_ftrs, 512),    \n",
        "#                                         nn.Hardswish(),\n",
        "#                                         nn.BatchNorm1d(512),\n",
        "#                                         nn.Dropout(0.3),\n",
        "#                                         nn.Linear(512, 256),\n",
        "#                                         nn.Hardswish(),\n",
        "#                                         nn.BatchNorm1d(256),\n",
        "#                                         nn.Dropout(0.3),\n",
        "#                                         nn.Linear(256,3)\n",
        "#                                         # nn.BatchNorm1d(num_features=num_ftrs),    \n",
        "#                                         # nn.Linear(num_ftrs, 512),\n",
        "#                                         # nn.ReLU(),\n",
        "#                                         # nn.BatchNorm1d(512),\n",
        "#                                         # nn.Linear(512, 128),\n",
        "#                                         # nn.ReLU(),\n",
        "#                                         # nn.BatchNorm1d(num_features=128),\n",
        "#                                         # nn.Dropout(0.4),\n",
        "#                                         # nn.Linear(128, 3),\n",
        "#                                     )\n",
        "    \n",
        "    def forward(self, xb):\n",
        "        return self.network(xb)\n",
        "    \n",
        "    def freeze(self):\n",
        "        # To freeze the residual layers\n",
        "        for param in self.network.parameters():\n",
        "            param.require_grad = False\n",
        "          \n",
        "        for param in self.network.classifier.parameters():\n",
        "          param.require_grad = True    \n",
        "    def unfreeze(self):\n",
        "        # Unfreeze all layers\n",
        "        for param in self.network.parameters():\n",
        "            param.require_grad = True"
      ],
      "metadata": {
        "id": "e5erGYHbgNC4",
        "execution": {
          "iopub.status.busy": "2022-06-30T13:33:56.274930Z",
          "iopub.execute_input": "2022-06-30T13:33:56.275604Z",
          "iopub.status.idle": "2022-06-30T13:33:56.285960Z",
          "shell.execute_reply.started": "2022-06-30T13:33:56.275571Z",
          "shell.execute_reply": "2022-06-30T13:33:56.284609Z"
        },
        "trusted": true
      },
      "execution_count": null,
      "outputs": []
    },
    {
      "cell_type": "markdown",
      "source": [
        "# Efficient_B3"
      ],
      "metadata": {
        "id": "vDulDuDg7WaG"
      }
    },
    {
      "cell_type": "code",
      "source": [
        "!pip install timm"
      ],
      "metadata": {
        "execution": {
          "iopub.status.busy": "2022-06-30T13:33:59.807602Z",
          "iopub.execute_input": "2022-06-30T13:33:59.807954Z",
          "iopub.status.idle": "2022-06-30T13:34:11.669323Z",
          "shell.execute_reply.started": "2022-06-30T13:33:59.807922Z",
          "shell.execute_reply": "2022-06-30T13:34:11.668192Z"
        },
        "trusted": true,
        "id": "t_trDIuK7WaG"
      },
      "execution_count": null,
      "outputs": []
    },
    {
      "cell_type": "code",
      "source": [
        "import timm"
      ],
      "metadata": {
        "execution": {
          "iopub.status.busy": "2022-06-30T13:34:11.672124Z",
          "iopub.execute_input": "2022-06-30T13:34:11.672421Z",
          "iopub.status.idle": "2022-06-30T13:34:16.796293Z",
          "shell.execute_reply.started": "2022-06-30T13:34:11.672395Z",
          "shell.execute_reply": "2022-06-30T13:34:16.795159Z"
        },
        "trusted": true,
        "id": "RZATAe6o7WaH"
      },
      "execution_count": null,
      "outputs": []
    },
    {
      "cell_type": "code",
      "source": [
        "class EfficientNet_b3(MultilabelImageClassificationBase):\n",
        "    def __init__(self):\n",
        "        super().__init__()\n",
        "        # Use a pretrained model\n",
        "        self.network = timm.create_model(\"efficientnet_b3\",pretrained=True)\n",
        "        # Replace last layer\n",
        "        num_ftrs = self.network.classifier.in_features\n",
        "#         self.network.classifier = nn.Linear(num_ftrs,3)\n",
        "        self.network.classifier = nn.Sequential(\n",
        "#                         #                 nn.AdaptiveAvgPool2d((1280,1,1)),\n",
        "                                        nn.Linear(num_ftrs, 512),    \n",
        "                                        nn.Hardswish(),\n",
        "                                        nn.BatchNorm1d(512),\n",
        "                                        nn.Dropout(0.3),\n",
        "                                        nn.Linear(512, 256),\n",
        "                                        nn.Hardswish(),\n",
        "                                        nn.BatchNorm1d(256),\n",
        "                                        nn.Dropout(0.3),\n",
        "                                        nn.Linear(256,3)\n",
        "                                        # nn.BatchNorm1d(num_features=num_ftrs),    \n",
        "                                        # nn.Linear(num_ftrs, 512),\n",
        "                                        # nn.ReLU(),\n",
        "                                        # nn.BatchNorm1d(512),\n",
        "                                        # nn.Linear(512, 128),\n",
        "                                        # nn.ReLU(),\n",
        "                                        # nn.BatchNorm1d(num_features=128),\n",
        "                                        # nn.Dropout(0.4),\n",
        "                                        # nn.Linear(128, 3),\n",
        "                                    )\n",
        "    \n",
        "    def forward(self, xb):\n",
        "        return torch.sigmoid(self.network(xb))\n",
        "    \n",
        "    def freeze(self):\n",
        "        # To freeze the residual layers\n",
        "        for param in self.network.parameters():\n",
        "            param.require_grad = False\n",
        "          \n",
        "        for param in self.network.classifier.parameters():\n",
        "          param.require_grad = True    \n",
        "    def unfreeze(self):\n",
        "        # Unfreeze all layers\n",
        "        for param in self.network.parameters():\n",
        "            param.require_grad = True"
      ],
      "metadata": {
        "execution": {
          "iopub.status.busy": "2022-06-30T13:34:16.798452Z",
          "iopub.execute_input": "2022-06-30T13:34:16.799149Z",
          "iopub.status.idle": "2022-06-30T13:34:16.811006Z",
          "shell.execute_reply.started": "2022-06-30T13:34:16.799108Z",
          "shell.execute_reply": "2022-06-30T13:34:16.810150Z"
        },
        "trusted": true,
        "id": "HlFf2BDD7WaH"
      },
      "execution_count": null,
      "outputs": []
    },
    {
      "cell_type": "markdown",
      "source": [
        "# Training Model"
      ],
      "metadata": {
        "id": "S8zyLAiI-VWY"
      }
    },
    {
      "cell_type": "code",
      "source": [
        "@torch.no_grad()\n",
        "def evaluate(model,val_loader):\n",
        "  model.eval()\n",
        "  outputs = [model.validation_step(batch) for batch in val_loader]\n",
        "  return model.validation_epoch_end(outputs)\n",
        "\n",
        "def get_lr(optimizer):\n",
        "  for param_group in optimizer.param_groups:\n",
        "    return param_group['lr']\n",
        "  \n",
        "def fit_one_cycle(epochs,max_lr,model,train_loader,val_loader,\n",
        "                  weight_decay=0,grad_clip=None,opt_func = torch.optim.SGD):\n",
        "  torch.cuda.empty_cache()\n",
        "  history = []\n",
        "\n",
        "  optimizer = opt_func(model.parameters(),max_lr,weight_decay=weight_decay,amsgrad=False)\n",
        "#   sched = torch.optim.lr_scheduler.ReduceLROnPlateau(optimizer, 'max', patience=1, cooldown=1)\n",
        "  sched = torch.optim.lr_scheduler.ReduceLROnPlateau(optimizer, mode='min', factor=0.2, patience=4, verbose=True, eps=1e-6)\n",
        "#   sched = torch.optim.lr_scheduler.OneCycleLR(optimizer,max_lr,epochs=epochs,steps_per_epoch=len(train_loader))\n",
        "\n",
        "  for epoch in range(epochs):\n",
        "    model.train()\n",
        "    train_losses = []\n",
        "    lrs = []\n",
        "    for batch in train_loader:\n",
        "      loss = model.training_step(batch)\n",
        "      train_losses.append(loss)\n",
        "      loss.backward()\n",
        "      \n",
        "      if grad_clip:\n",
        "        nn.utils.clip_grad_value_(model.parameters(),grad_clip)\n",
        "\n",
        "      optimizer.step()\n",
        "      optimizer.zero_grad()\n",
        "\n",
        "      lrs.append(get_lr(optimizer))\n",
        "#       sched.step()\n",
        "\n",
        "    result = evaluate(model,val_loader)\n",
        "    sched.step(result['val_loss'])\n",
        "    result['train_loss']=torch.stack(train_losses).mean().item()\n",
        "    result['lrs'] = lrs\n",
        "    model.epoch_end(epoch,result)\n",
        "    history.append(result)\n",
        "  return history"
      ],
      "metadata": {
        "id": "U6suz8Cw-EDN",
        "execution": {
          "iopub.status.busy": "2022-06-30T13:36:56.924625Z",
          "iopub.execute_input": "2022-06-30T13:36:56.925079Z",
          "iopub.status.idle": "2022-06-30T13:36:56.937785Z",
          "shell.execute_reply.started": "2022-06-30T13:36:56.925042Z",
          "shell.execute_reply": "2022-06-30T13:36:56.936793Z"
        },
        "trusted": true
      },
      "execution_count": null,
      "outputs": []
    },
    {
      "cell_type": "code",
      "source": [
        "# model = to_device(EfficientNet_b4(),device)"
      ],
      "metadata": {
        "id": "D9BT51VdgYCp",
        "execution": {
          "iopub.status.busy": "2022-06-26T20:28:26.973947Z",
          "iopub.execute_input": "2022-06-26T20:28:26.97423Z",
          "iopub.status.idle": "2022-06-26T20:28:26.978665Z",
          "shell.execute_reply.started": "2022-06-26T20:28:26.974204Z",
          "shell.execute_reply": "2022-06-26T20:28:26.977761Z"
        },
        "trusted": true
      },
      "execution_count": null,
      "outputs": []
    },
    {
      "cell_type": "code",
      "source": [
        "def plot_scores(history):\n",
        "    scores = [x['val_score'] for x in history]\n",
        "    plt.plot(scores, '-x')\n",
        "    plt.xlabel('epoch')\n",
        "    plt.ylabel('score')\n",
        "    plt.title('F1 score vs. No. of epochs');\n",
        "    plt.show()"
      ],
      "metadata": {
        "id": "pyEqrcNFLVTv",
        "execution": {
          "iopub.status.busy": "2022-06-30T08:00:17.445302Z",
          "iopub.execute_input": "2022-06-30T08:00:17.446193Z",
          "iopub.status.idle": "2022-06-30T08:00:17.452547Z",
          "shell.execute_reply.started": "2022-06-30T08:00:17.446144Z",
          "shell.execute_reply": "2022-06-30T08:00:17.451061Z"
        },
        "trusted": true
      },
      "execution_count": null,
      "outputs": []
    },
    {
      "cell_type": "code",
      "source": [
        "def plot_accuracies(history):\n",
        "  accuracies = [x['val_acc'] for x in history]\n",
        "  plt.plot(accuracies,'-x')\n",
        "  plt.xlabel('epoch')\n",
        "  plt.ylabel('accuracy')\n",
        "  plt.title('Accuracy vs No. of epochs')\n",
        "  plt.show()\n"
      ],
      "metadata": {
        "id": "ozKt7u0wMEMA",
        "execution": {
          "iopub.status.busy": "2022-06-30T08:00:17.848159Z",
          "iopub.execute_input": "2022-06-30T08:00:17.848704Z",
          "iopub.status.idle": "2022-06-30T08:00:17.854518Z",
          "shell.execute_reply.started": "2022-06-30T08:00:17.848667Z",
          "shell.execute_reply": "2022-06-30T08:00:17.85348Z"
        },
        "trusted": true
      },
      "execution_count": null,
      "outputs": []
    },
    {
      "cell_type": "code",
      "source": [
        "def plot_losses(history):\n",
        "  train_losses = [x.get('train_loss') for x in history]\n",
        "  val_losses = [x['val_loss'] for x in history]\n",
        "  plt.plot(train_losses,'-bx')\n",
        "  plt.plot(val_losses,'-rx')\n",
        "  plt.xlabel('epoch')\n",
        "  plt.ylabel('loss')\n",
        "  plt.legend(['Training','Validation'])\n",
        "  plt.title('Loss vs No. of epochs')\n",
        "  plt.show()\n"
      ],
      "metadata": {
        "id": "K3OKxkMWMIbr",
        "execution": {
          "iopub.status.busy": "2022-06-30T08:00:18.577901Z",
          "iopub.execute_input": "2022-06-30T08:00:18.578266Z",
          "iopub.status.idle": "2022-06-30T08:00:18.585014Z",
          "shell.execute_reply.started": "2022-06-30T08:00:18.578234Z",
          "shell.execute_reply": "2022-06-30T08:00:18.584003Z"
        },
        "trusted": true
      },
      "execution_count": null,
      "outputs": []
    },
    {
      "cell_type": "code",
      "source": [
        "def plot_lrs(history):\n",
        "  lrs = np.concatenate([x.get('lrs',[]) for x in history])\n",
        "#   print(lrs)\n",
        "  val_losses = [x['val_loss'] for x in history]\n",
        "  train_losses = [x.get('train_loss') for x in history]\n",
        "  # print(len(lrs))\n",
        "  # print(len(val_losses))\n",
        "  # plt.plot(lrs,val_losses,marker='-rx')\n",
        "\n",
        "  # plt.plot(lrs,train_losses,marker='-bx')\n",
        "  plt.plot(lrs)\n",
        "  plt.xlabel('Batch no.')\n",
        "  # plt.ylabel('Losses')\n",
        "  plt.ylabel('Learning Rate')\n",
        "  # plt.xlabel('Learning Rate')\n",
        "  plt.title('Learning Rate vs Batch no.')\n",
        "  plt.show()\n",
        "  # plt.title('Learning Rate vs Losses')\n"
      ],
      "metadata": {
        "id": "DwvlYjhRMTvn",
        "execution": {
          "iopub.status.busy": "2022-06-30T08:00:19.341638Z",
          "iopub.execute_input": "2022-06-30T08:00:19.342544Z",
          "iopub.status.idle": "2022-06-30T08:00:19.349278Z",
          "shell.execute_reply.started": "2022-06-30T08:00:19.342492Z",
          "shell.execute_reply": "2022-06-30T08:00:19.348229Z"
        },
        "trusted": true
      },
      "execution_count": null,
      "outputs": []
    },
    {
      "cell_type": "code",
      "source": [
        "# for train_in,val_in in skf.split(X,y):\n",
        "#   train = train_df.iloc[train_in,:].reset_index()\n",
        "#   val = train_df.iloc[val_in,:].reset_index()\n",
        "#   print(train.shape)\n",
        "#   print(val.shape)\n",
        "#   random_seed = 42\n",
        "#   torch.manual_seed(random_seed);\n",
        "#   # print(train.shape)\n",
        "#   # print(val.shape)\n",
        "#   # break\n",
        "#   print(train.head())\n",
        "#   train_dl,val_dl = get_split_dataloaders(train,val)\n",
        "#   for img,la in train_dl:\n",
        "#     print(img.shape,la.shape)\n",
        "#     break\n",
        "#   break"
      ],
      "metadata": {
        "id": "KMqj1oVGdsYC",
        "execution": {
          "iopub.status.busy": "2022-06-28T20:40:01.980949Z",
          "iopub.execute_input": "2022-06-28T20:40:01.981891Z",
          "iopub.status.idle": "2022-06-28T20:40:01.986673Z",
          "shell.execute_reply.started": "2022-06-28T20:40:01.981858Z",
          "shell.execute_reply": "2022-06-28T20:40:01.985714Z"
        },
        "trusted": true
      },
      "execution_count": null,
      "outputs": []
    },
    {
      "cell_type": "code",
      "source": [
        "a = torch.from_numpy(np.array([1]))\n",
        "a.shape"
      ],
      "metadata": {
        "execution": {
          "iopub.status.busy": "2022-06-28T19:05:24.392915Z",
          "iopub.execute_input": "2022-06-28T19:05:24.393427Z",
          "iopub.status.idle": "2022-06-28T19:05:24.401722Z",
          "shell.execute_reply.started": "2022-06-28T19:05:24.393396Z",
          "shell.execute_reply": "2022-06-28T19:05:24.400699Z"
        },
        "trusted": true,
        "id": "rjeYMXkq7WaI"
      },
      "execution_count": null,
      "outputs": []
    },
    {
      "cell_type": "code",
      "source": [
        "skf = StratifiedKFold(n_splits=5)\n",
        "fold = 0\n",
        "model = to_device(EfficientNet_b3(),device)\n",
        "for train_in,val_in in skf.split(X,y):\n",
        "#     if (fold==0):\n",
        "      train = train_df.iloc[train_in,:].reset_index()\n",
        "      val = train_df.iloc[val_in,:].reset_index()\n",
        "#       print(train.shape)\n",
        "#       print(val.shape)\n",
        "      random_seed = 42\n",
        "      torch.manual_seed(random_seed);\n",
        "      # print(train.shape)\n",
        "      # print(val.shape)\n",
        "      # break\n",
        "      train_dl,val_dl = get_split_dataloaders(train,val)\n",
        "      for m,n in train_dl:\n",
        "        print(m.shape)\n",
        "        break\n",
        "      history = [evaluate(model,val_dl)]\n",
        "      model.freeze()\n",
        "      epochs = 5\n",
        "      max_lr = 0.0001\n",
        "      grad_clip = 1e-1\n",
        "      weight_decay = 1e-5\n",
        "      opt_func = torch.optim.AdamW\n",
        "      # %%time\n",
        "      since = time.time()\n",
        "      history += fit_one_cycle(epochs, max_lr, model, train_dl, val_dl, \n",
        "                                 grad_clip=grad_clip, \n",
        "                                 weight_decay=weight_decay, \n",
        "                                 opt_func=opt_func)\n",
        "      epochs = 5\n",
        "      weight_decay = 1e-5\n",
        "      model.unfreeze()\n",
        "      # %%time\n",
        "      history += fit_one_cycle(epochs, max_lr, model, train_dl, val_dl, \n",
        "                                 grad_clip=grad_clip, \n",
        "                                 weight_decay=weight_decay, \n",
        "                                 opt_func=opt_func)\n",
        "      print(\" Training time for fold \",fold,\" is \",(time.time() - since)/60,\" min\")\n",
        "\n",
        "      plot_scores(history)\n",
        "      plt.show()\n",
        "      plot_accuracies(history)\n",
        "      plt.show()\n",
        "      plot_losses(history)\n",
        "      plt.show()\n",
        "      plot_lrs(history)\n",
        "      plt.show()\n",
        "\n",
        "      densenet121_fold = {\n",
        "          'model': model,\n",
        "          'epochs_freeze' : 5,\n",
        "          'epochs_unfreeze' : 5,\n",
        "          'max_lr' :0.0001,\n",
        "          'grad_clip' : 1e-4,\n",
        "          'weight_decay' : 1e-5/1e-5,\n",
        "          'opt_func' : torch.optim.AdamW,\n",
        "          'scheduler' : \"ReduceLRonPlateau\",\n",
        "          'time': (time.time() - since)/60\n",
        "      }\n",
        "      model_file_name = \"Densenet121_\"+str(fold)+\".joblib\"\n",
        "      joblib.dump(densenet121_fold,model_file_name)\n",
        "      fold+=1"
      ],
      "metadata": {
        "id": "ukSB085BRFQk",
        "execution": {
          "iopub.status.busy": "2022-06-30T08:00:39.317806Z",
          "iopub.execute_input": "2022-06-30T08:00:39.31816Z",
          "iopub.status.idle": "2022-06-30T09:58:49.397476Z",
          "shell.execute_reply.started": "2022-06-30T08:00:39.318131Z",
          "shell.execute_reply": "2022-06-30T09:58:49.39638Z"
        },
        "trusted": true
      },
      "execution_count": null,
      "outputs": []
    },
    {
      "cell_type": "code",
      "source": [
        "# import shutil\n",
        "# shutil.rmtree(\"/kaggle/working\")"
      ],
      "metadata": {
        "execution": {
          "iopub.status.busy": "2022-06-26T20:13:14.497791Z",
          "iopub.execute_input": "2022-06-26T20:13:14.498455Z",
          "iopub.status.idle": "2022-06-26T20:13:14.502843Z",
          "shell.execute_reply.started": "2022-06-26T20:13:14.498415Z",
          "shell.execute_reply": "2022-06-26T20:13:14.501852Z"
        },
        "trusted": true,
        "id": "7c7quoFD7WaI"
      },
      "execution_count": null,
      "outputs": []
    },
    {
      "cell_type": "code",
      "source": [
        "plot_scores(history)\n",
        "plt.show()\n",
        "plot_accuracies(history)\n",
        "plt.show()\n",
        "plot_losses(history)\n",
        "plt.show()\n",
        "plot_lrs(history)\n",
        "plt.show()"
      ],
      "metadata": {
        "execution": {
          "iopub.status.busy": "2022-06-25T07:23:35.030222Z",
          "iopub.execute_input": "2022-06-25T07:23:35.031272Z",
          "iopub.status.idle": "2022-06-25T07:23:36.384954Z",
          "shell.execute_reply.started": "2022-06-25T07:23:35.031222Z",
          "shell.execute_reply": "2022-06-25T07:23:36.384051Z"
        },
        "trusted": true,
        "id": "q8thN55l7WaI"
      },
      "execution_count": null,
      "outputs": []
    },
    {
      "cell_type": "code",
      "source": [
        "# import jovian\n",
        "# jovian.commit(project=\"age-detection-latest-74f18\")"
      ],
      "metadata": {
        "id": "RI0kdQF7LMhR"
      },
      "execution_count": null,
      "outputs": []
    },
    {
      "cell_type": "markdown",
      "source": [
        "# Predictions "
      ],
      "metadata": {
        "id": "TjgqBWja7WaJ"
      }
    },
    {
      "cell_type": "code",
      "source": [
        "def predict_single(image):\n",
        "    xb = image.unsqueeze(0)\n",
        "    xb = to_device(xb, device)\n",
        "    preds = model(xb)\n",
        "    prediction = preds[0]\n",
        "    print(\"Prediction: \", prediction)\n",
        "    show_sample(image, prediction)\n",
        "    \n",
        "@torch.no_grad()\n",
        "def predict_dl(dl, model):\n",
        "    torch.cuda.empty_cache()\n",
        "    batch_probs = []\n",
        "    for xb in tqdm(dl):\n",
        "        probs = model(xb)\n",
        "        batch_probs.append(probs.cpu().detach())\n",
        "    batch_probs = torch.cat(batch_probs)\n",
        "    return batch_probs"
      ],
      "metadata": {
        "execution": {
          "iopub.status.busy": "2022-06-30T13:37:03.091916Z",
          "iopub.execute_input": "2022-06-30T13:37:03.093062Z",
          "iopub.status.idle": "2022-06-30T13:37:03.103331Z",
          "shell.execute_reply.started": "2022-06-30T13:37:03.093012Z",
          "shell.execute_reply": "2022-06-30T13:37:03.102072Z"
        },
        "trusted": true,
        "id": "5UiC5tHM7WaJ"
      },
      "execution_count": null,
      "outputs": []
    },
    {
      "cell_type": "code",
      "source": [
        "densenet121_model_0 = joblib.load(\"../input/densenet121-models/Densenet121_0_new.joblib\")['model']\n",
        "densenet121_model_1 = joblib.load(\"../input/densenet121-models/Densenet121_1_new.joblib\")['model']\n",
        "densenet121_model_2 = joblib.load(\"../input/densenet121-models/Densenet121_2_new.joblib\")['model']\n",
        "densenet121_model_3 = joblib.load(\"../input/densenet121-models/Densenet121_3_new.joblib\")['model']\n",
        "densenet121_model_4 = joblib.load(\"../input/densenet121-models/Densenet121_4_new.joblib\")['model']"
      ],
      "metadata": {
        "execution": {
          "iopub.status.busy": "2022-06-30T13:37:05.043408Z",
          "iopub.execute_input": "2022-06-30T13:37:05.043764Z",
          "iopub.status.idle": "2022-06-30T13:37:12.395013Z",
          "shell.execute_reply.started": "2022-06-30T13:37:05.043731Z",
          "shell.execute_reply": "2022-06-30T13:37:12.394053Z"
        },
        "trusted": true,
        "id": "YS_AEhYU7WaJ"
      },
      "execution_count": null,
      "outputs": []
    },
    {
      "cell_type": "code",
      "source": [
        "effnetb2_model_0 = joblib.load(\"../input/effnetb2-label-smooth/Effnetb2_label_smooth_0.joblib\")['model']\n",
        "effnetb2_model_1 = joblib.load(\"../input/effnetb2-label-smooth/Effnetb2_label_smooth_1.joblib\")['model']\n",
        "effnetb2_model_2 = joblib.load(\"../input/effnetb2-label-smooth/Effnetb2_label_smooth_2.joblib\")['model']\n",
        "effnetb2_model_3 = joblib.load(\"../input/effnetb2-label-smooth/Effnetb2_label_smooth_3.joblib\")['model']\n",
        "effnetb2_model_4 = joblib.load(\"../input/effnetb2-label-smooth/Effnetb2_label_smooth_4.joblib\")['model']"
      ],
      "metadata": {
        "execution": {
          "iopub.status.busy": "2022-06-30T13:37:45.358114Z",
          "iopub.execute_input": "2022-06-30T13:37:45.358861Z",
          "iopub.status.idle": "2022-06-30T13:37:48.214760Z",
          "shell.execute_reply.started": "2022-06-30T13:37:45.358822Z",
          "shell.execute_reply": "2022-06-30T13:37:48.213534Z"
        },
        "trusted": true,
        "id": "ZLN25DoI7WaJ"
      },
      "execution_count": null,
      "outputs": []
    },
    {
      "cell_type": "code",
      "source": [
        "effnetb3_model_0 = joblib.load(\"../input/effnetb3-label-smooth/EfficientNetB3_label_smooth_0.joblib\")['model']\n",
        "effnetb3_model_1 = joblib.load(\"../input/effnetb3-label-smooth/EfficientNetB3_label_smooth_1.joblib\")['model']\n",
        "effnetb3_model_2 = joblib.load(\"../input/effnetb3-label-smooth/EfficientNetB3_label_smooth_2.joblib\")['model']\n",
        "effnetb3_model_3 = joblib.load(\"../input/effnetb3-label-smooth/EfficientNetB3_label_smooth_3.joblib\")['model']\n",
        "effnetb3_model_4 = joblib.load(\"../input/effnetb3-label-smooth/EfficientNetB3_label_smooth_4.joblib\")['model']"
      ],
      "metadata": {
        "execution": {
          "iopub.status.busy": "2022-06-30T13:39:22.036714Z",
          "iopub.execute_input": "2022-06-30T13:39:22.037369Z",
          "iopub.status.idle": "2022-06-30T13:39:24.970165Z",
          "shell.execute_reply.started": "2022-06-30T13:39:22.037321Z",
          "shell.execute_reply": "2022-06-30T13:39:24.969039Z"
        },
        "trusted": true,
        "id": "9AQVUibV7WaJ"
      },
      "execution_count": null,
      "outputs": []
    },
    {
      "cell_type": "code",
      "source": [
        "resnext50_model_0 = joblib.load(\"../input/resnext50-32x4d-models/Resnext50_32x4d_0.joblib\")['model']\n",
        "resnext50_model_1 = joblib.load(\"../input/resnext50-32x4d-models/Resnext50_32x4d_1.joblib\")['model']\n",
        "resnext50_model_2 = joblib.load(\"../input/resnext50-32x4d-models/Resnext50_32x4d_2.joblib\")['model']\n",
        "resnext50_model_3 = joblib.load(\"../input/resnext50-32x4d-models/Resnext50_32x4d_3.joblib\")['model']\n",
        "resnext50_model_4 = joblib.load(\"../input/resnext50-32x4d-models/Resnext50_32x4d_4.joblib\")['model']"
      ],
      "metadata": {
        "execution": {
          "iopub.status.busy": "2022-06-30T13:39:33.096310Z",
          "iopub.execute_input": "2022-06-30T13:39:33.096662Z",
          "iopub.status.idle": "2022-06-30T13:39:38.723979Z",
          "shell.execute_reply.started": "2022-06-30T13:39:33.096630Z",
          "shell.execute_reply": "2022-06-30T13:39:38.723019Z"
        },
        "trusted": true,
        "id": "u_L-NvEq7WaJ"
      },
      "execution_count": null,
      "outputs": []
    },
    {
      "cell_type": "code",
      "source": [
        "from tqdm import tqdm"
      ],
      "metadata": {
        "execution": {
          "iopub.status.busy": "2022-06-30T13:39:42.441075Z",
          "iopub.execute_input": "2022-06-30T13:39:42.441674Z",
          "iopub.status.idle": "2022-06-30T13:39:42.447171Z",
          "shell.execute_reply.started": "2022-06-30T13:39:42.441639Z",
          "shell.execute_reply": "2022-06-30T13:39:42.446087Z"
        },
        "trusted": true,
        "id": "1iqSAYMf7WaJ"
      },
      "execution_count": null,
      "outputs": []
    },
    {
      "cell_type": "code",
      "source": [
        "# test_ds = AgeDetectDatasetTest(test_df, transform=valid_tfms, is_test=True)\n",
        "# test_dl = DataLoader(test_ds, batch_size*2, num_workers=2, pin_memory=True)\n",
        "# show_batch(test_dl,\"test\")"
      ],
      "metadata": {
        "execution": {
          "iopub.status.busy": "2022-06-27T14:03:37.767041Z",
          "iopub.execute_input": "2022-06-27T14:03:37.767429Z",
          "iopub.status.idle": "2022-06-27T14:03:39.441801Z",
          "shell.execute_reply.started": "2022-06-27T14:03:37.767398Z",
          "shell.execute_reply": "2022-06-27T14:03:39.440789Z"
        },
        "trusted": true,
        "id": "rRBTdsOk7WaJ"
      },
      "execution_count": null,
      "outputs": []
    },
    {
      "cell_type": "code",
      "source": [
        "test_dl = get_test_dl()\n",
        "densenet121_preds_0 = predict_dl(test_dl,densenet121_model_0)\n",
        "densenet121_preds_1 = predict_dl(test_dl,densenet121_model_1)\n",
        "densenet121_preds_2 = predict_dl(test_dl,densenet121_model_2)\n",
        "densenet121_preds_3 = predict_dl(test_dl,densenet121_model_3)\n",
        "densenet121_preds_4 = predict_dl(test_dl,densenet121_model_4)"
      ],
      "metadata": {
        "execution": {
          "iopub.status.busy": "2022-06-30T13:39:45.956684Z",
          "iopub.execute_input": "2022-06-30T13:39:45.957060Z",
          "iopub.status.idle": "2022-06-30T13:41:55.779368Z",
          "shell.execute_reply.started": "2022-06-30T13:39:45.957026Z",
          "shell.execute_reply": "2022-06-30T13:41:55.778091Z"
        },
        "trusted": true,
        "id": "bjSkF9237WaJ"
      },
      "execution_count": null,
      "outputs": []
    },
    {
      "cell_type": "code",
      "source": [
        "effnetb2_preds_0 = predict_dl(test_dl,effnetb2_model_0)\n",
        "effnetb2_preds_1 = predict_dl(test_dl,effnetb2_model_1)\n",
        "effnetb2_preds_2 = predict_dl(test_dl,effnetb2_model_2)\n",
        "effnetb2_preds_3 = predict_dl(test_dl,effnetb2_model_3)\n",
        "effnetb2_preds_4 = predict_dl(test_dl,effnetb2_model_4)"
      ],
      "metadata": {
        "execution": {
          "iopub.status.busy": "2022-06-30T13:41:55.782084Z",
          "iopub.execute_input": "2022-06-30T13:41:55.782451Z",
          "iopub.status.idle": "2022-06-30T13:43:35.912050Z",
          "shell.execute_reply.started": "2022-06-30T13:41:55.782410Z",
          "shell.execute_reply": "2022-06-30T13:43:35.911005Z"
        },
        "trusted": true,
        "id": "GTItpbq07WaK"
      },
      "execution_count": null,
      "outputs": []
    },
    {
      "cell_type": "code",
      "source": [
        "effnetb3_preds_0 = predict_dl(test_dl,effnetb3_model_0)\n",
        "effnetb3_preds_1 = predict_dl(test_dl,effnetb3_model_1)\n",
        "effnetb3_preds_2 = predict_dl(test_dl,effnetb3_model_2)\n",
        "effnetb3_preds_3 = predict_dl(test_dl,effnetb3_model_3)\n",
        "effnetb3_preds_4 = predict_dl(test_dl,effnetb3_model_4)"
      ],
      "metadata": {
        "execution": {
          "iopub.status.busy": "2022-06-30T13:43:35.913800Z",
          "iopub.execute_input": "2022-06-30T13:43:35.915003Z",
          "iopub.status.idle": "2022-06-30T13:45:20.203629Z",
          "shell.execute_reply.started": "2022-06-30T13:43:35.914937Z",
          "shell.execute_reply": "2022-06-30T13:45:20.201894Z"
        },
        "trusted": true,
        "id": "inh1eWXE7WaK"
      },
      "execution_count": null,
      "outputs": []
    },
    {
      "cell_type": "code",
      "source": [
        "resnext50_preds_0 = predict_dl(test_dl,resnext50_model_0)\n",
        "resnext50_preds_1 = predict_dl(test_dl,resnext50_model_1)\n",
        "resnext50_preds_2 = predict_dl(test_dl,resnext50_model_2)\n",
        "resnext50_preds_3 = predict_dl(test_dl,resnext50_model_3)\n",
        "resnext50_preds_4 = predict_dl(test_dl,resnext50_model_4)"
      ],
      "metadata": {
        "execution": {
          "iopub.status.busy": "2022-06-30T13:45:20.206360Z",
          "iopub.execute_input": "2022-06-30T13:45:20.207066Z",
          "iopub.status.idle": "2022-06-30T13:47:12.170359Z",
          "shell.execute_reply.started": "2022-06-30T13:45:20.207022Z",
          "shell.execute_reply": "2022-06-30T13:47:12.169062Z"
        },
        "trusted": true,
        "id": "bSwI1JrB7WaK"
      },
      "execution_count": null,
      "outputs": []
    },
    {
      "cell_type": "code",
      "source": [
        "densenet121_preds = []\n",
        "effnetb2_preds = []\n",
        "effnetb3_preds = []\n",
        "resnext50_preds = []\n",
        "densenet121_preds.append(densenet121_preds_0)\n",
        "densenet121_preds.append(densenet121_preds_1)\n",
        "densenet121_preds.append(densenet121_preds_2)\n",
        "densenet121_preds.append(densenet121_preds_3)\n",
        "densenet121_preds.append(densenet121_preds_4)\n",
        "\n",
        "effnetb2_preds.append(effnetb2_preds_0)\n",
        "effnetb2_preds.append(effnetb2_preds_1)\n",
        "effnetb2_preds.append(effnetb2_preds_2)\n",
        "effnetb2_preds.append(effnetb2_preds_3)\n",
        "effnetb2_preds.append(effnetb2_preds_4)\n",
        "\n",
        "effnetb3_preds.append(effnetb3_preds_0)\n",
        "effnetb3_preds.append(effnetb3_preds_1)\n",
        "effnetb3_preds.append(effnetb3_preds_2)\n",
        "effnetb3_preds.append(effnetb3_preds_3)\n",
        "effnetb3_preds.append(effnetb3_preds_4)\n",
        "\n",
        "resnext50_preds.append(resnext50_preds_0)\n",
        "resnext50_preds.append(resnext50_preds_1)\n",
        "resnext50_preds.append(resnext50_preds_2)\n",
        "resnext50_preds.append(resnext50_preds_3)\n",
        "resnext50_preds.append(resnext50_preds_4)"
      ],
      "metadata": {
        "execution": {
          "iopub.status.busy": "2022-06-30T13:48:19.976380Z",
          "iopub.execute_input": "2022-06-30T13:48:19.976760Z",
          "iopub.status.idle": "2022-06-30T13:48:19.987454Z",
          "shell.execute_reply.started": "2022-06-30T13:48:19.976724Z",
          "shell.execute_reply": "2022-06-30T13:48:19.986082Z"
        },
        "trusted": true,
        "id": "TUexB89G7WaK"
      },
      "execution_count": null,
      "outputs": []
    },
    {
      "cell_type": "code",
      "source": [
        "densenet121_prediction_cv = torch.stack(densenet121_preds).mean(axis=0)\n",
        "effnetb2_prediction_cv = torch.stack(effnetb2_preds).mean(axis=0)\n",
        "effnetb3_prediction_cv = torch.stack(effnetb3_preds).mean(axis=0)\n",
        "resnext50_prediction_cv = torch.stack(resnext50_preds).mean(axis=0)"
      ],
      "metadata": {
        "execution": {
          "iopub.status.busy": "2022-06-30T13:48:23.078861Z",
          "iopub.execute_input": "2022-06-30T13:48:23.079447Z",
          "iopub.status.idle": "2022-06-30T13:48:23.088748Z",
          "shell.execute_reply.started": "2022-06-30T13:48:23.079408Z",
          "shell.execute_reply": "2022-06-30T13:48:23.087737Z"
        },
        "trusted": true,
        "id": "Ay6k6Tqh7WaK"
      },
      "execution_count": null,
      "outputs": []
    },
    {
      "cell_type": "code",
      "source": [
        "_,densenet121_predictions = torch.max(densenet121_prediction_cv,dim=1)\n",
        "_,effnetb2_predictions = torch.max(effnetb2_prediction_cv,dim=1)\n",
        "_,effnetb3_predictions = torch.max(effnetb3_prediction_cv,dim=1)\n",
        "_,resnext50_predictions = torch.max(resnext50_prediction_cv,dim=1)"
      ],
      "metadata": {
        "execution": {
          "iopub.status.busy": "2022-06-30T13:48:25.492432Z",
          "iopub.execute_input": "2022-06-30T13:48:25.492770Z",
          "iopub.status.idle": "2022-06-30T13:48:25.501703Z",
          "shell.execute_reply.started": "2022-06-30T13:48:25.492740Z",
          "shell.execute_reply": "2022-06-30T13:48:25.500613Z"
        },
        "trusted": true,
        "id": "LhwNAui07WaK"
      },
      "execution_count": null,
      "outputs": []
    },
    {
      "cell_type": "code",
      "source": [
        "# predic = []\n",
        "# predic.append(densenet121_predictions)\n",
        "# predic.append(effnetb2_predictions)\n",
        "# predic.append(effnetb3_predictions)\n",
        "# predic.append(resnext50_predictions)\n",
        "# predic"
      ],
      "metadata": {
        "execution": {
          "iopub.status.busy": "2022-06-30T13:48:29.096492Z",
          "iopub.execute_input": "2022-06-30T13:48:29.096852Z",
          "iopub.status.idle": "2022-06-30T13:48:29.106047Z",
          "shell.execute_reply.started": "2022-06-30T13:48:29.096822Z",
          "shell.execute_reply": "2022-06-30T13:48:29.104867Z"
        },
        "trusted": true,
        "id": "SNtToO6i7WaK"
      },
      "execution_count": null,
      "outputs": []
    },
    {
      "cell_type": "code",
      "source": [
        "# pred_hardvoting = []\n",
        "# for i in range(len(effnetb2_predictions)):\n",
        "#     cnt0 = 0\n",
        "#     cnt1 = 0\n",
        "#     cnt2 = 0\n",
        "#     for j in predic:\n",
        "#         if (j[i]==0):\n",
        "#             cnt0+=1\n",
        "#         elif (j[i]==1):\n",
        "#             cnt1+=1\n",
        "#         else:\n",
        "#             cnt2+=1\n",
        "#     maxi = max(cnt0,max(cnt1,cnt2))\n",
        "#     if (cnt0==maxi):\n",
        "#         pred_hardvoting.append(0)\n",
        "#     elif (cnt1==maxi):\n",
        "#         pred_hardvoting.append(1)\n",
        "#     else:\n",
        "#         pred_hardvoting.append(2)\n",
        "# len(pred_hardvoting)"
      ],
      "metadata": {
        "execution": {
          "iopub.status.busy": "2022-06-30T13:54:56.814076Z",
          "iopub.execute_input": "2022-06-30T13:54:56.814538Z",
          "iopub.status.idle": "2022-06-30T13:54:57.056923Z",
          "shell.execute_reply.started": "2022-06-30T13:54:56.814490Z",
          "shell.execute_reply": "2022-06-30T13:54:57.055926Z"
        },
        "trusted": true,
        "id": "zd75S6X87WaK"
      },
      "execution_count": null,
      "outputs": []
    },
    {
      "cell_type": "code",
      "source": [
        "# pred_hardvoting[:5]"
      ],
      "metadata": {
        "execution": {
          "iopub.status.busy": "2022-06-30T13:55:18.692144Z",
          "iopub.execute_input": "2022-06-30T13:55:18.692593Z",
          "iopub.status.idle": "2022-06-30T13:55:18.705610Z",
          "shell.execute_reply.started": "2022-06-30T13:55:18.692548Z",
          "shell.execute_reply": "2022-06-30T13:55:18.704665Z"
        },
        "trusted": true,
        "id": "pXaZJu4N7WaK"
      },
      "execution_count": null,
      "outputs": []
    },
    {
      "cell_type": "code",
      "source": [
        "# pred_df = pd.DataFrame(pred_hardvoting,columns=[\"Class\"])\n",
        "# pred_df.head()"
      ],
      "metadata": {
        "execution": {
          "iopub.status.busy": "2022-06-30T13:55:47.892631Z",
          "iopub.execute_input": "2022-06-30T13:55:47.893157Z",
          "iopub.status.idle": "2022-06-30T13:55:47.913523Z",
          "shell.execute_reply.started": "2022-06-30T13:55:47.893107Z",
          "shell.execute_reply": "2022-06-30T13:55:47.912470Z"
        },
        "trusted": true,
        "id": "yvc3xK8D7WaL"
      },
      "execution_count": null,
      "outputs": []
    },
    {
      "cell_type": "code",
      "source": [
        "# submission_df = pd.concat([pred_df,test_df],axis=1)\n",
        "# submission_df.head()"
      ],
      "metadata": {
        "execution": {
          "iopub.status.busy": "2022-06-30T13:56:02.453569Z",
          "iopub.execute_input": "2022-06-30T13:56:02.454093Z",
          "iopub.status.idle": "2022-06-30T13:56:02.466452Z",
          "shell.execute_reply.started": "2022-06-30T13:56:02.454017Z",
          "shell.execute_reply": "2022-06-30T13:56:02.464507Z"
        },
        "trusted": true,
        "id": "GxQV5t_D7WaL"
      },
      "execution_count": null,
      "outputs": []
    },
    {
      "cell_type": "code",
      "source": [
        "# submission_df['Class'] = submission_df['Class'].map({0:'MIDDLE',1:'OLD',2:'YOUNG'})\n",
        "# submission_df.head()"
      ],
      "metadata": {
        "execution": {
          "iopub.status.busy": "2022-06-30T13:56:15.125796Z",
          "iopub.execute_input": "2022-06-30T13:56:15.126290Z",
          "iopub.status.idle": "2022-06-30T13:56:15.148080Z",
          "shell.execute_reply.started": "2022-06-30T13:56:15.126247Z",
          "shell.execute_reply": "2022-06-30T13:56:15.147051Z"
        },
        "trusted": true,
        "id": "07cP1fGI7WaL"
      },
      "execution_count": null,
      "outputs": []
    },
    {
      "cell_type": "code",
      "source": [
        "# submission_df.to_csv('all_submission-hard_voting_age-detection.csv',index=False)"
      ],
      "metadata": {
        "execution": {
          "iopub.status.busy": "2022-06-30T13:56:36.063568Z",
          "iopub.execute_input": "2022-06-30T13:56:36.064087Z",
          "iopub.status.idle": "2022-06-30T13:56:36.090210Z",
          "shell.execute_reply.started": "2022-06-30T13:56:36.063991Z",
          "shell.execute_reply": "2022-06-30T13:56:36.089137Z"
        },
        "trusted": true,
        "id": "1IBamomT7WaL"
      },
      "execution_count": null,
      "outputs": []
    },
    {
      "cell_type": "code",
      "source": [
        "all_preds = []\n",
        "all_preds.append(densenet121_prediction_cv)\n",
        "all_preds.append(effnetb2_prediction_cv)\n",
        "all_preds.append(effnetb3_prediction_cv)\n",
        "all_preds.append(resnext50_prediction_cv)"
      ],
      "metadata": {
        "execution": {
          "iopub.status.busy": "2022-06-30T13:48:38.691423Z",
          "iopub.execute_input": "2022-06-30T13:48:38.692272Z",
          "iopub.status.idle": "2022-06-30T13:48:38.697034Z",
          "shell.execute_reply.started": "2022-06-30T13:48:38.692234Z",
          "shell.execute_reply": "2022-06-30T13:48:38.696057Z"
        },
        "trusted": true,
        "id": "fK2gB8WI7WaL"
      },
      "execution_count": null,
      "outputs": []
    },
    {
      "cell_type": "code",
      "source": [
        "torch.stack(all_preds).shape"
      ],
      "metadata": {
        "execution": {
          "iopub.status.busy": "2022-06-30T13:48:43.470018Z",
          "iopub.execute_input": "2022-06-30T13:48:43.470522Z",
          "iopub.status.idle": "2022-06-30T13:48:43.483150Z",
          "shell.execute_reply.started": "2022-06-30T13:48:43.470471Z",
          "shell.execute_reply": "2022-06-30T13:48:43.480952Z"
        },
        "trusted": true,
        "id": "0jKkSLO27WaL"
      },
      "execution_count": null,
      "outputs": []
    },
    {
      "cell_type": "code",
      "source": [
        "allpred_cv = torch.stack(all_preds).mean(axis=0)\n",
        "allpred_cv.shape"
      ],
      "metadata": {
        "execution": {
          "iopub.status.busy": "2022-06-30T13:48:46.444729Z",
          "iopub.execute_input": "2022-06-30T13:48:46.445116Z",
          "iopub.status.idle": "2022-06-30T13:48:46.452908Z",
          "shell.execute_reply.started": "2022-06-30T13:48:46.445083Z",
          "shell.execute_reply": "2022-06-30T13:48:46.452009Z"
        },
        "trusted": true,
        "id": "sNqtnhvi7WaL"
      },
      "execution_count": null,
      "outputs": []
    },
    {
      "cell_type": "code",
      "source": [
        "_,pred = torch.max(allpred_cv,dim=1)\n",
        "pred.shape"
      ],
      "metadata": {
        "execution": {
          "iopub.status.busy": "2022-06-30T13:48:49.434239Z",
          "iopub.execute_input": "2022-06-30T13:48:49.434588Z",
          "iopub.status.idle": "2022-06-30T13:48:49.442885Z",
          "shell.execute_reply.started": "2022-06-30T13:48:49.434556Z",
          "shell.execute_reply": "2022-06-30T13:48:49.441785Z"
        },
        "trusted": true,
        "id": "p4UYL2fn7WaL"
      },
      "execution_count": null,
      "outputs": []
    },
    {
      "cell_type": "code",
      "source": [
        "pred_df = pd.DataFrame(pred,columns=[\"Class\"])\n",
        "pred_df.head()"
      ],
      "metadata": {
        "execution": {
          "iopub.status.busy": "2022-06-30T13:48:51.212649Z",
          "iopub.execute_input": "2022-06-30T13:48:51.213022Z",
          "iopub.status.idle": "2022-06-30T13:48:51.275248Z",
          "shell.execute_reply.started": "2022-06-30T13:48:51.212964Z",
          "shell.execute_reply": "2022-06-30T13:48:51.274126Z"
        },
        "trusted": true,
        "id": "CD55ImER7WaL"
      },
      "execution_count": null,
      "outputs": []
    },
    {
      "cell_type": "code",
      "source": [
        "submission_df = pd.concat([pred_df,test_df],axis=1)\n",
        "submission_df.head()"
      ],
      "metadata": {
        "execution": {
          "iopub.status.busy": "2022-06-30T13:48:53.424812Z",
          "iopub.execute_input": "2022-06-30T13:48:53.425530Z",
          "iopub.status.idle": "2022-06-30T13:48:53.437936Z",
          "shell.execute_reply.started": "2022-06-30T13:48:53.425488Z",
          "shell.execute_reply": "2022-06-30T13:48:53.436806Z"
        },
        "trusted": true,
        "id": "6QfRf9sw7WaL"
      },
      "execution_count": null,
      "outputs": []
    },
    {
      "cell_type": "code",
      "source": [
        "submission_df['Class'] = submission_df['Class'].map({0:'MIDDLE',1:'OLD',2:'YOUNG'})\n",
        "submission_df.head()"
      ],
      "metadata": {
        "execution": {
          "iopub.status.busy": "2022-06-30T13:48:57.089964Z",
          "iopub.execute_input": "2022-06-30T13:48:57.090890Z",
          "iopub.status.idle": "2022-06-30T13:48:57.105444Z",
          "shell.execute_reply.started": "2022-06-30T13:48:57.090843Z",
          "shell.execute_reply": "2022-06-30T13:48:57.104306Z"
        },
        "trusted": true,
        "id": "sww1fF7M7WaM"
      },
      "execution_count": null,
      "outputs": []
    },
    {
      "cell_type": "code",
      "source": [
        "submission_df.to_csv('all_submission-age-detection.csv',index=False)"
      ],
      "metadata": {
        "execution": {
          "iopub.status.busy": "2022-06-30T13:48:58.832598Z",
          "iopub.execute_input": "2022-06-30T13:48:58.832954Z",
          "iopub.status.idle": "2022-06-30T13:48:58.853713Z",
          "shell.execute_reply.started": "2022-06-30T13:48:58.832923Z",
          "shell.execute_reply": "2022-06-30T13:48:58.852863Z"
        },
        "trusted": true,
        "id": "SV9nXLEK7WaM"
      },
      "execution_count": null,
      "outputs": []
    }
  ]
}